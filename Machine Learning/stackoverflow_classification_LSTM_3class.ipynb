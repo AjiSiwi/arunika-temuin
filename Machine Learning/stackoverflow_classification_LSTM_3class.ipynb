{
  "nbformat": 4,
  "nbformat_minor": 0,
  "metadata": {
    "accelerator": "GPU",
    "colab": {
      "name": "stackoverflow_classification_rnn.ipynb",
      "provenance": [],
      "collapsed_sections": [
        "_2VQo4bajwUU",
        "fX3-Wr3Qv5PK",
        "EMKjtQCJ2poL"
      ],
      "toc_visible": true,
      "include_colab_link": true
    },
    "kernelspec": {
      "display_name": "Python 3",
      "name": "python3"
    }
  },
  "cells": [
    {
      "cell_type": "markdown",
      "metadata": {
        "id": "view-in-github",
        "colab_type": "text"
      },
      "source": [
        "<a href=\"https://colab.research.google.com/github/AjiSiwi/arunika-temuin/blob/master/Machine%20Learning/stackoverflow_classification_LSTM_3class.ipynb\" target=\"_parent\"><img src=\"https://colab.research.google.com/assets/colab-badge.svg\" alt=\"Open In Colab\"/></a>"
      ]
    },
    {
      "cell_type": "markdown",
      "metadata": {
        "id": "_2VQo4bajwUU"
      },
      "source": [
        "# Setup"
      ]
    },
    {
      "cell_type": "code",
      "metadata": {
        "id": "z682XYsrjkY9"
      },
      "source": [
        "import numpy as np\n",
        "import pandas as pd\n",
        "\n",
        "import tensorflow_datasets as tfds\n",
        "import tensorflow as tf\n",
        "\n",
        "tfds.disable_progress_bar()"
      ],
      "execution_count": null,
      "outputs": []
    },
    {
      "cell_type": "markdown",
      "metadata": {
        "id": "1rXHa-w9JZhb"
      },
      "source": [
        "Import `matplotlib` and create a helper function to plot graphs:"
      ]
    },
    {
      "cell_type": "code",
      "metadata": {
        "id": "Mp1Z7P9pYRSK"
      },
      "source": [
        "import matplotlib.pyplot as plt\n",
        "\n",
        "\n",
        "def plot_graphs(history, metric):\n",
        "  plt.plot(history.history[metric])\n",
        "  plt.plot(history.history['val_'+metric], '')\n",
        "  plt.xlabel(\"Epochs\")\n",
        "  plt.ylabel(metric)\n",
        "  plt.legend([metric, 'val_'+metric])"
      ],
      "execution_count": null,
      "outputs": []
    },
    {
      "cell_type": "markdown",
      "metadata": {
        "id": "fX3-Wr3Qv5PK"
      },
      "source": [
        "#Load stackoverflow threads\n"
      ]
    },
    {
      "cell_type": "code",
      "metadata": {
        "id": "bW91oyPGwAXv"
      },
      "source": [
        "train_tf = pd.read_csv('train.csv')"
      ],
      "execution_count": null,
      "outputs": []
    },
    {
      "cell_type": "code",
      "metadata": {
        "id": "iOdi2JhBypME"
      },
      "source": [
        "valid_tf = pd.read_csv('valid.csv')"
      ],
      "execution_count": null,
      "outputs": []
    },
    {
      "cell_type": "code",
      "metadata": {
        "colab": {
          "base_uri": "https://localhost:8080/",
          "height": 341
        },
        "id": "EKQFerH4w7Sf",
        "outputId": "86fcc07c-517e-4007-f821-edf63f9781cf"
      },
      "source": [
        "train_tf.head()"
      ],
      "execution_count": null,
      "outputs": [
        {
          "output_type": "execute_result",
          "data": {
            "text/html": [
              "<div>\n",
              "<style scoped>\n",
              "    .dataframe tbody tr th:only-of-type {\n",
              "        vertical-align: middle;\n",
              "    }\n",
              "\n",
              "    .dataframe tbody tr th {\n",
              "        vertical-align: top;\n",
              "    }\n",
              "\n",
              "    .dataframe thead th {\n",
              "        text-align: right;\n",
              "    }\n",
              "</style>\n",
              "<table border=\"1\" class=\"dataframe\">\n",
              "  <thead>\n",
              "    <tr style=\"text-align: right;\">\n",
              "      <th></th>\n",
              "      <th>Id</th>\n",
              "      <th>Title</th>\n",
              "      <th>Body</th>\n",
              "      <th>Tags</th>\n",
              "      <th>CreationDate</th>\n",
              "      <th>Y</th>\n",
              "    </tr>\n",
              "  </thead>\n",
              "  <tbody>\n",
              "    <tr>\n",
              "      <th>0</th>\n",
              "      <td>34552656</td>\n",
              "      <td>Java: Repeat Task Every Random Seconds</td>\n",
              "      <td>&lt;p&gt;I'm already familiar with repeating tasks e...</td>\n",
              "      <td>&lt;java&gt;&lt;repeat&gt;</td>\n",
              "      <td>2016-01-01 00:21:59</td>\n",
              "      <td>LQ_CLOSE</td>\n",
              "    </tr>\n",
              "    <tr>\n",
              "      <th>1</th>\n",
              "      <td>34553034</td>\n",
              "      <td>Why are Java Optionals immutable?</td>\n",
              "      <td>&lt;p&gt;I'd like to understand why Java 8 Optionals...</td>\n",
              "      <td>&lt;java&gt;&lt;optional&gt;</td>\n",
              "      <td>2016-01-01 02:03:20</td>\n",
              "      <td>HQ</td>\n",
              "    </tr>\n",
              "    <tr>\n",
              "      <th>2</th>\n",
              "      <td>34553174</td>\n",
              "      <td>Text Overlay Image with Darkened Opacity React...</td>\n",
              "      <td>&lt;p&gt;I am attempting to overlay a title over an ...</td>\n",
              "      <td>&lt;javascript&gt;&lt;image&gt;&lt;overlay&gt;&lt;react-native&gt;&lt;opa...</td>\n",
              "      <td>2016-01-01 02:48:24</td>\n",
              "      <td>HQ</td>\n",
              "    </tr>\n",
              "    <tr>\n",
              "      <th>3</th>\n",
              "      <td>34553318</td>\n",
              "      <td>Why ternary operator in swift is so picky?</td>\n",
              "      <td>&lt;p&gt;The question is very simple, but I just cou...</td>\n",
              "      <td>&lt;swift&gt;&lt;operators&gt;&lt;whitespace&gt;&lt;ternary-operato...</td>\n",
              "      <td>2016-01-01 03:30:17</td>\n",
              "      <td>HQ</td>\n",
              "    </tr>\n",
              "    <tr>\n",
              "      <th>4</th>\n",
              "      <td>34553755</td>\n",
              "      <td>hide/show fab with scale animation</td>\n",
              "      <td>&lt;p&gt;I'm using custom floatingactionmenu. I need...</td>\n",
              "      <td>&lt;android&gt;&lt;material-design&gt;&lt;floating-action-but...</td>\n",
              "      <td>2016-01-01 05:21:48</td>\n",
              "      <td>HQ</td>\n",
              "    </tr>\n",
              "  </tbody>\n",
              "</table>\n",
              "</div>"
            ],
            "text/plain": [
              "         Id  ...         Y\n",
              "0  34552656  ...  LQ_CLOSE\n",
              "1  34553034  ...        HQ\n",
              "2  34553174  ...        HQ\n",
              "3  34553318  ...        HQ\n",
              "4  34553755  ...        HQ\n",
              "\n",
              "[5 rows x 6 columns]"
            ]
          },
          "metadata": {
            "tags": []
          },
          "execution_count": 5
        }
      ]
    },
    {
      "cell_type": "code",
      "metadata": {
        "colab": {
          "base_uri": "https://localhost:8080/",
          "height": 289
        },
        "id": "1WA-q0puw9ZF",
        "outputId": "cb3ac827-86a1-4ea9-e6eb-81e8207a6422"
      },
      "source": [
        "valid_tf.head()"
      ],
      "execution_count": null,
      "outputs": [
        {
          "output_type": "execute_result",
          "data": {
            "text/html": [
              "<div>\n",
              "<style scoped>\n",
              "    .dataframe tbody tr th:only-of-type {\n",
              "        vertical-align: middle;\n",
              "    }\n",
              "\n",
              "    .dataframe tbody tr th {\n",
              "        vertical-align: top;\n",
              "    }\n",
              "\n",
              "    .dataframe thead th {\n",
              "        text-align: right;\n",
              "    }\n",
              "</style>\n",
              "<table border=\"1\" class=\"dataframe\">\n",
              "  <thead>\n",
              "    <tr style=\"text-align: right;\">\n",
              "      <th></th>\n",
              "      <th>Id</th>\n",
              "      <th>Title</th>\n",
              "      <th>Body</th>\n",
              "      <th>Tags</th>\n",
              "      <th>CreationDate</th>\n",
              "      <th>Y</th>\n",
              "    </tr>\n",
              "  </thead>\n",
              "  <tbody>\n",
              "    <tr>\n",
              "      <th>0</th>\n",
              "      <td>34552974</td>\n",
              "      <td>How to get all the child records from differen...</td>\n",
              "      <td>I am having 4 different tables like \\r\\nselect...</td>\n",
              "      <td>&lt;sql&gt;&lt;sql-server&gt;</td>\n",
              "      <td>2016-01-01 01:44:52</td>\n",
              "      <td>LQ_EDIT</td>\n",
              "    </tr>\n",
              "    <tr>\n",
              "      <th>1</th>\n",
              "      <td>34554721</td>\n",
              "      <td>Retrieve all except some data of the another t...</td>\n",
              "      <td>I have two table m_master and tbl_appointment\\...</td>\n",
              "      <td>&lt;php&gt;&lt;mysql&gt;&lt;sql&gt;&lt;codeigniter&gt;&lt;mysqli&gt;</td>\n",
              "      <td>2016-01-01 08:43:50</td>\n",
              "      <td>LQ_EDIT</td>\n",
              "    </tr>\n",
              "    <tr>\n",
              "      <th>2</th>\n",
              "      <td>34555135</td>\n",
              "      <td>Pandas: read_html</td>\n",
              "      <td>&lt;p&gt;I'm trying to extract US states from wiki U...</td>\n",
              "      <td>&lt;python&gt;&lt;pandas&gt;</td>\n",
              "      <td>2016-01-01 09:55:22</td>\n",
              "      <td>HQ</td>\n",
              "    </tr>\n",
              "    <tr>\n",
              "      <th>3</th>\n",
              "      <td>34555448</td>\n",
              "      <td>Reader Always gimme NULL</td>\n",
              "      <td>I'm so new to C#, I wanna make an application ...</td>\n",
              "      <td>&lt;sql-server&gt;&lt;c#-4.0&gt;</td>\n",
              "      <td>2016-01-01 10:43:45</td>\n",
              "      <td>LQ_EDIT</td>\n",
              "    </tr>\n",
              "    <tr>\n",
              "      <th>4</th>\n",
              "      <td>34555752</td>\n",
              "      <td>php rearrange array elements based on condition</td>\n",
              "      <td>basically i have this array:\\r\\n\\r\\n    array(...</td>\n",
              "      <td>&lt;php&gt;</td>\n",
              "      <td>2016-01-01 11:34:09</td>\n",
              "      <td>LQ_EDIT</td>\n",
              "    </tr>\n",
              "  </tbody>\n",
              "</table>\n",
              "</div>"
            ],
            "text/plain": [
              "         Id  ...        Y\n",
              "0  34552974  ...  LQ_EDIT\n",
              "1  34554721  ...  LQ_EDIT\n",
              "2  34555135  ...       HQ\n",
              "3  34555448  ...  LQ_EDIT\n",
              "4  34555752  ...  LQ_EDIT\n",
              "\n",
              "[5 rows x 6 columns]"
            ]
          },
          "metadata": {
            "tags": []
          },
          "execution_count": 6
        }
      ]
    },
    {
      "cell_type": "code",
      "metadata": {
        "colab": {
          "base_uri": "https://localhost:8080/",
          "height": 202
        },
        "id": "4fTK7957zFgl",
        "outputId": "40f82c5e-89e3-4416-acf8-0dde33408893"
      },
      "source": [
        "valid_tf = valid_tf.drop(labels='Id',axis=1)\n",
        "valid_tf = valid_tf.drop(labels='Tags',axis=1)\n",
        "valid_tf = valid_tf.drop(labels='CreationDate',axis=1)\n",
        "valid_tf.head()"
      ],
      "execution_count": null,
      "outputs": [
        {
          "output_type": "execute_result",
          "data": {
            "text/html": [
              "<div>\n",
              "<style scoped>\n",
              "    .dataframe tbody tr th:only-of-type {\n",
              "        vertical-align: middle;\n",
              "    }\n",
              "\n",
              "    .dataframe tbody tr th {\n",
              "        vertical-align: top;\n",
              "    }\n",
              "\n",
              "    .dataframe thead th {\n",
              "        text-align: right;\n",
              "    }\n",
              "</style>\n",
              "<table border=\"1\" class=\"dataframe\">\n",
              "  <thead>\n",
              "    <tr style=\"text-align: right;\">\n",
              "      <th></th>\n",
              "      <th>Title</th>\n",
              "      <th>Body</th>\n",
              "      <th>Y</th>\n",
              "    </tr>\n",
              "  </thead>\n",
              "  <tbody>\n",
              "    <tr>\n",
              "      <th>0</th>\n",
              "      <td>How to get all the child records from differen...</td>\n",
              "      <td>I am having 4 different tables like \\r\\nselect...</td>\n",
              "      <td>LQ_EDIT</td>\n",
              "    </tr>\n",
              "    <tr>\n",
              "      <th>1</th>\n",
              "      <td>Retrieve all except some data of the another t...</td>\n",
              "      <td>I have two table m_master and tbl_appointment\\...</td>\n",
              "      <td>LQ_EDIT</td>\n",
              "    </tr>\n",
              "    <tr>\n",
              "      <th>2</th>\n",
              "      <td>Pandas: read_html</td>\n",
              "      <td>&lt;p&gt;I'm trying to extract US states from wiki U...</td>\n",
              "      <td>HQ</td>\n",
              "    </tr>\n",
              "    <tr>\n",
              "      <th>3</th>\n",
              "      <td>Reader Always gimme NULL</td>\n",
              "      <td>I'm so new to C#, I wanna make an application ...</td>\n",
              "      <td>LQ_EDIT</td>\n",
              "    </tr>\n",
              "    <tr>\n",
              "      <th>4</th>\n",
              "      <td>php rearrange array elements based on condition</td>\n",
              "      <td>basically i have this array:\\r\\n\\r\\n    array(...</td>\n",
              "      <td>LQ_EDIT</td>\n",
              "    </tr>\n",
              "  </tbody>\n",
              "</table>\n",
              "</div>"
            ],
            "text/plain": [
              "                                               Title  ...        Y\n",
              "0  How to get all the child records from differen...  ...  LQ_EDIT\n",
              "1  Retrieve all except some data of the another t...  ...  LQ_EDIT\n",
              "2                                  Pandas: read_html  ...       HQ\n",
              "3                           Reader Always gimme NULL  ...  LQ_EDIT\n",
              "4    php rearrange array elements based on condition  ...  LQ_EDIT\n",
              "\n",
              "[5 rows x 3 columns]"
            ]
          },
          "metadata": {
            "tags": []
          },
          "execution_count": 7
        }
      ]
    },
    {
      "cell_type": "code",
      "metadata": {
        "colab": {
          "base_uri": "https://localhost:8080/",
          "height": 202
        },
        "id": "vo52cMTx0mLO",
        "outputId": "6b575a46-a60c-443e-d58d-83525074d9e5"
      },
      "source": [
        "train_tf = train_tf.drop(labels='Id',axis=1)\n",
        "train_tf = train_tf.drop(labels='Tags',axis=1)\n",
        "train_tf = train_tf.drop(labels='CreationDate',axis=1)\n",
        "train_tf.head()"
      ],
      "execution_count": null,
      "outputs": [
        {
          "output_type": "execute_result",
          "data": {
            "text/html": [
              "<div>\n",
              "<style scoped>\n",
              "    .dataframe tbody tr th:only-of-type {\n",
              "        vertical-align: middle;\n",
              "    }\n",
              "\n",
              "    .dataframe tbody tr th {\n",
              "        vertical-align: top;\n",
              "    }\n",
              "\n",
              "    .dataframe thead th {\n",
              "        text-align: right;\n",
              "    }\n",
              "</style>\n",
              "<table border=\"1\" class=\"dataframe\">\n",
              "  <thead>\n",
              "    <tr style=\"text-align: right;\">\n",
              "      <th></th>\n",
              "      <th>Title</th>\n",
              "      <th>Body</th>\n",
              "      <th>Y</th>\n",
              "    </tr>\n",
              "  </thead>\n",
              "  <tbody>\n",
              "    <tr>\n",
              "      <th>0</th>\n",
              "      <td>Java: Repeat Task Every Random Seconds</td>\n",
              "      <td>&lt;p&gt;I'm already familiar with repeating tasks e...</td>\n",
              "      <td>LQ_CLOSE</td>\n",
              "    </tr>\n",
              "    <tr>\n",
              "      <th>1</th>\n",
              "      <td>Why are Java Optionals immutable?</td>\n",
              "      <td>&lt;p&gt;I'd like to understand why Java 8 Optionals...</td>\n",
              "      <td>HQ</td>\n",
              "    </tr>\n",
              "    <tr>\n",
              "      <th>2</th>\n",
              "      <td>Text Overlay Image with Darkened Opacity React...</td>\n",
              "      <td>&lt;p&gt;I am attempting to overlay a title over an ...</td>\n",
              "      <td>HQ</td>\n",
              "    </tr>\n",
              "    <tr>\n",
              "      <th>3</th>\n",
              "      <td>Why ternary operator in swift is so picky?</td>\n",
              "      <td>&lt;p&gt;The question is very simple, but I just cou...</td>\n",
              "      <td>HQ</td>\n",
              "    </tr>\n",
              "    <tr>\n",
              "      <th>4</th>\n",
              "      <td>hide/show fab with scale animation</td>\n",
              "      <td>&lt;p&gt;I'm using custom floatingactionmenu. I need...</td>\n",
              "      <td>HQ</td>\n",
              "    </tr>\n",
              "  </tbody>\n",
              "</table>\n",
              "</div>"
            ],
            "text/plain": [
              "                                               Title  ...         Y\n",
              "0             Java: Repeat Task Every Random Seconds  ...  LQ_CLOSE\n",
              "1                  Why are Java Optionals immutable?  ...        HQ\n",
              "2  Text Overlay Image with Darkened Opacity React...  ...        HQ\n",
              "3         Why ternary operator in swift is so picky?  ...        HQ\n",
              "4                 hide/show fab with scale animation  ...        HQ\n",
              "\n",
              "[5 rows x 3 columns]"
            ]
          },
          "metadata": {
            "tags": []
          },
          "execution_count": 8
        }
      ]
    },
    {
      "cell_type": "code",
      "metadata": {
        "colab": {
          "base_uri": "https://localhost:8080/"
        },
        "id": "kp89o5K43LMG",
        "outputId": "87bfa898-8f31-411e-c61f-637d0210e107"
      },
      "source": [
        "print(len(train_tf))\n",
        "print(len(valid_tf))"
      ],
      "execution_count": null,
      "outputs": [
        {
          "output_type": "stream",
          "text": [
            "45000\n",
            "15000\n"
          ],
          "name": "stdout"
        }
      ]
    },
    {
      "cell_type": "markdown",
      "metadata": {
        "id": "EMKjtQCJ2poL"
      },
      "source": [
        "#Preprocessing text data"
      ]
    },
    {
      "cell_type": "code",
      "metadata": {
        "id": "rRz2Wi2E6dA5"
      },
      "source": [
        "import re\n",
        "import string"
      ],
      "execution_count": null,
      "outputs": []
    },
    {
      "cell_type": "code",
      "metadata": {
        "id": "0o3hIdVN2tXg"
      },
      "source": [
        "def cleaning_text(text):\n",
        "  '''\n",
        "  input: one column dataframe\n",
        "  '''\n",
        "  text = text.lower()\n",
        "  text = text.strip()\n",
        "  text = re.sub(r'\\d+', '', text) #remove number character\n",
        "  text = re.sub(r\"\\s+\", \" \", text)\n",
        "  text = re.sub(r\"\\w+…|…\", \"\", text) # Remove ellipsis (and last word)\n",
        "  text = re.sub(r\"(?<=\\w)-(?=\\w)\", \" \", text)# Replace dash between words\n",
        "  text = re.sub(f\"[{re.escape(string.punctuation)}]\", \"\", text) # Remove punctuation\n",
        "\n",
        "  return text\n"
      ],
      "execution_count": null,
      "outputs": []
    },
    {
      "cell_type": "code",
      "metadata": {
        "id": "ZpsxP4gE3KUR"
      },
      "source": [
        "def remove_stopword(text):\n",
        "  '''a function for removing the stopword'''\n",
        "  sw = ['i', 'me', 'my', 'myself', 'we', 'our', 'ours', 'ourselves', 'you',\n",
        "       'your', 'yours', 'yourself', 'yourselves', 'he', 'him', 'his',\n",
        "       'himself', 'she', 'her', 'hers', 'herself', 'it', 'its', 'itself',\n",
        "       'they', 'them', 'their', 'theirs', 'themselves', 'what', 'which',\n",
        "       'who', 'whom', 'this', 'that', 'these', 'those', 'am', 'is', 'are',\n",
        "       'was', 'were', 'be', 'been', 'being', 'have', 'has', 'had',\n",
        "       'having', 'do', 'does', 'did', 'doing', 'a', 'an', 'the', 'and',\n",
        "       'but', 'if', 'or', 'because', 'as', 'until', 'while', 'of', 'at',\n",
        "       'by', 'for', 'with', 'about', 'against', 'between', 'into',\n",
        "       'through', 'during', 'before', 'after', 'above', 'below', 'to',\n",
        "       'from', 'up', 'down', 'in', 'out', 'on', 'off', 'over', 'under',\n",
        "       'again', 'further', 'then', 'once', 'here', 'there', 'when',\n",
        "       'where', 'why', 'how', 'all', 'any', 'both', 'each', 'few', 'more',\n",
        "       'most', 'other', 'some', 'such', 'no', 'nor', 'not', 'only', 'own',\n",
        "       'same', 'so', 'than', 'too', 'very', 's', 't', 'can', 'will',\n",
        "       'just', 'don', 'should', 'now', 'd', 'll', 'm', 'o', 're', 've',\n",
        "       'y', 'ain', 'aren', 'couldn', 'didn', 'doesn', 'hadn', 'hasn',\n",
        "       'haven', 'isn', 'ma', 'mightn', 'mustn', 'needn', 'shan', 'shouldn',\n",
        "       'wasn', 'weren', 'won', 'wouldn']\n",
        "  # removing the stop words and lowercasing the selected words\n",
        "  text = [word for word in text.split() if word.lower() not in sw]\n",
        "  # joining the list of words with space separator\n",
        "  return \" \".join(text)"
      ],
      "execution_count": null,
      "outputs": []
    },
    {
      "cell_type": "markdown",
      "metadata": {
        "id": "4w0tExKiH3gp"
      },
      "source": [
        "##One-Hot Label"
      ]
    },
    {
      "cell_type": "code",
      "metadata": {
        "colab": {
          "base_uri": "https://localhost:8080/"
        },
        "id": "AqpNQpGXIBmT",
        "outputId": "9d37cbc2-a01e-458b-86b5-d6bd96514fa4"
      },
      "source": [
        "# Get one hot encoding of columns B\n",
        "one_hot_labels_train = pd.get_dummies(train_tf['Y'])\n",
        "# Drop column B as it is now encoded\n",
        "train_tf = train_tf.drop('Y',axis = 1)\n",
        "# Join the encoded df\n",
        "train_tf = train_tf.join(one_hot_labels_train)\n",
        "train_tf.head() "
      ],
      "execution_count": null,
      "outputs": [
        {
          "output_type": "execute_result",
          "data": {
            "text/html": [
              "<div>\n",
              "<style scoped>\n",
              "    .dataframe tbody tr th:only-of-type {\n",
              "        vertical-align: middle;\n",
              "    }\n",
              "\n",
              "    .dataframe tbody tr th {\n",
              "        vertical-align: top;\n",
              "    }\n",
              "\n",
              "    .dataframe thead th {\n",
              "        text-align: right;\n",
              "    }\n",
              "</style>\n",
              "<table border=\"1\" class=\"dataframe\">\n",
              "  <thead>\n",
              "    <tr style=\"text-align: right;\">\n",
              "      <th></th>\n",
              "      <th>Title</th>\n",
              "      <th>Body</th>\n",
              "      <th>HQ</th>\n",
              "      <th>LQ_CLOSE</th>\n",
              "      <th>LQ_EDIT</th>\n",
              "    </tr>\n",
              "  </thead>\n",
              "  <tbody>\n",
              "    <tr>\n",
              "      <th>0</th>\n",
              "      <td>Java: Repeat Task Every Random Seconds</td>\n",
              "      <td>&lt;p&gt;I'm already familiar with repeating tasks e...</td>\n",
              "      <td>0</td>\n",
              "      <td>1</td>\n",
              "      <td>0</td>\n",
              "    </tr>\n",
              "    <tr>\n",
              "      <th>1</th>\n",
              "      <td>Why are Java Optionals immutable?</td>\n",
              "      <td>&lt;p&gt;I'd like to understand why Java 8 Optionals...</td>\n",
              "      <td>1</td>\n",
              "      <td>0</td>\n",
              "      <td>0</td>\n",
              "    </tr>\n",
              "    <tr>\n",
              "      <th>2</th>\n",
              "      <td>Text Overlay Image with Darkened Opacity React...</td>\n",
              "      <td>&lt;p&gt;I am attempting to overlay a title over an ...</td>\n",
              "      <td>1</td>\n",
              "      <td>0</td>\n",
              "      <td>0</td>\n",
              "    </tr>\n",
              "    <tr>\n",
              "      <th>3</th>\n",
              "      <td>Why ternary operator in swift is so picky?</td>\n",
              "      <td>&lt;p&gt;The question is very simple, but I just cou...</td>\n",
              "      <td>1</td>\n",
              "      <td>0</td>\n",
              "      <td>0</td>\n",
              "    </tr>\n",
              "    <tr>\n",
              "      <th>4</th>\n",
              "      <td>hide/show fab with scale animation</td>\n",
              "      <td>&lt;p&gt;I'm using custom floatingactionmenu. I need...</td>\n",
              "      <td>1</td>\n",
              "      <td>0</td>\n",
              "      <td>0</td>\n",
              "    </tr>\n",
              "  </tbody>\n",
              "</table>\n",
              "</div>"
            ],
            "text/plain": [
              "                                               Title  ... LQ_EDIT\n",
              "0             Java: Repeat Task Every Random Seconds  ...       0\n",
              "1                  Why are Java Optionals immutable?  ...       0\n",
              "2  Text Overlay Image with Darkened Opacity React...  ...       0\n",
              "3         Why ternary operator in swift is so picky?  ...       0\n",
              "4                 hide/show fab with scale animation  ...       0\n",
              "\n",
              "[5 rows x 5 columns]"
            ]
          },
          "metadata": {
            "tags": []
          },
          "execution_count": 13
        }
      ]
    },
    {
      "cell_type": "code",
      "metadata": {
        "colab": {
          "base_uri": "https://localhost:8080/"
        },
        "id": "GMHEru_NIV-C",
        "outputId": "99c178bf-0dbb-45f1-fafa-58553294eac5"
      },
      "source": [
        "# Get one hot encoding of columns B\n",
        "one_hot_labels_valid = pd.get_dummies(valid_tf['Y'])\n",
        "# Drop column B as it is now encoded\n",
        "valid_tf = valid_tf.drop('Y',axis = 1)\n",
        "# Join the encoded df\n",
        "valid_tf = valid_tf.join(one_hot_labels_valid)\n",
        "valid_tf.head()"
      ],
      "execution_count": null,
      "outputs": [
        {
          "output_type": "execute_result",
          "data": {
            "text/html": [
              "<div>\n",
              "<style scoped>\n",
              "    .dataframe tbody tr th:only-of-type {\n",
              "        vertical-align: middle;\n",
              "    }\n",
              "\n",
              "    .dataframe tbody tr th {\n",
              "        vertical-align: top;\n",
              "    }\n",
              "\n",
              "    .dataframe thead th {\n",
              "        text-align: right;\n",
              "    }\n",
              "</style>\n",
              "<table border=\"1\" class=\"dataframe\">\n",
              "  <thead>\n",
              "    <tr style=\"text-align: right;\">\n",
              "      <th></th>\n",
              "      <th>Title</th>\n",
              "      <th>Body</th>\n",
              "      <th>HQ</th>\n",
              "      <th>LQ_CLOSE</th>\n",
              "      <th>LQ_EDIT</th>\n",
              "    </tr>\n",
              "  </thead>\n",
              "  <tbody>\n",
              "    <tr>\n",
              "      <th>0</th>\n",
              "      <td>How to get all the child records from differen...</td>\n",
              "      <td>I am having 4 different tables like \\r\\nselect...</td>\n",
              "      <td>0</td>\n",
              "      <td>0</td>\n",
              "      <td>1</td>\n",
              "    </tr>\n",
              "    <tr>\n",
              "      <th>1</th>\n",
              "      <td>Retrieve all except some data of the another t...</td>\n",
              "      <td>I have two table m_master and tbl_appointment\\...</td>\n",
              "      <td>0</td>\n",
              "      <td>0</td>\n",
              "      <td>1</td>\n",
              "    </tr>\n",
              "    <tr>\n",
              "      <th>2</th>\n",
              "      <td>Pandas: read_html</td>\n",
              "      <td>&lt;p&gt;I'm trying to extract US states from wiki U...</td>\n",
              "      <td>1</td>\n",
              "      <td>0</td>\n",
              "      <td>0</td>\n",
              "    </tr>\n",
              "    <tr>\n",
              "      <th>3</th>\n",
              "      <td>Reader Always gimme NULL</td>\n",
              "      <td>I'm so new to C#, I wanna make an application ...</td>\n",
              "      <td>0</td>\n",
              "      <td>0</td>\n",
              "      <td>1</td>\n",
              "    </tr>\n",
              "    <tr>\n",
              "      <th>4</th>\n",
              "      <td>php rearrange array elements based on condition</td>\n",
              "      <td>basically i have this array:\\r\\n\\r\\n    array(...</td>\n",
              "      <td>0</td>\n",
              "      <td>0</td>\n",
              "      <td>1</td>\n",
              "    </tr>\n",
              "  </tbody>\n",
              "</table>\n",
              "</div>"
            ],
            "text/plain": [
              "                                               Title  ... LQ_EDIT\n",
              "0  How to get all the child records from differen...  ...       1\n",
              "1  Retrieve all except some data of the another t...  ...       1\n",
              "2                                  Pandas: read_html  ...       0\n",
              "3                           Reader Always gimme NULL  ...       1\n",
              "4    php rearrange array elements based on condition  ...       1\n",
              "\n",
              "[5 rows x 5 columns]"
            ]
          },
          "metadata": {
            "tags": []
          },
          "execution_count": 14
        }
      ]
    },
    {
      "cell_type": "markdown",
      "metadata": {
        "id": "CUjLGUhmJeqJ"
      },
      "source": [
        "## join 'Body' and 'Title'"
      ]
    },
    {
      "cell_type": "code",
      "metadata": {
        "colab": {
          "base_uri": "https://localhost:8080/"
        },
        "id": "cOL5T_B1JuNF",
        "outputId": "f2c6c678-81c4-4d95-a232-bcf0bd5cfb8b"
      },
      "source": [
        "train_tf[\"text\"] = train_tf[\"Title\"] + ' ' + train_tf[\"Body\"]\n",
        "\n",
        "cols = train_tf.columns.tolist()\n",
        "cols = cols[-1:] + cols[:-1]\n",
        "train_tf = train_tf[cols] \n",
        "\n",
        "train_tf = train_tf.drop(labels='Title',axis=1)\n",
        "train_tf = train_tf.drop(labels='Body',axis=1)\n",
        "\n",
        "train_tf.head()"
      ],
      "execution_count": null,
      "outputs": [
        {
          "output_type": "execute_result",
          "data": {
            "text/html": [
              "<div>\n",
              "<style scoped>\n",
              "    .dataframe tbody tr th:only-of-type {\n",
              "        vertical-align: middle;\n",
              "    }\n",
              "\n",
              "    .dataframe tbody tr th {\n",
              "        vertical-align: top;\n",
              "    }\n",
              "\n",
              "    .dataframe thead th {\n",
              "        text-align: right;\n",
              "    }\n",
              "</style>\n",
              "<table border=\"1\" class=\"dataframe\">\n",
              "  <thead>\n",
              "    <tr style=\"text-align: right;\">\n",
              "      <th></th>\n",
              "      <th>text</th>\n",
              "      <th>HQ</th>\n",
              "      <th>LQ_CLOSE</th>\n",
              "      <th>LQ_EDIT</th>\n",
              "    </tr>\n",
              "  </thead>\n",
              "  <tbody>\n",
              "    <tr>\n",
              "      <th>0</th>\n",
              "      <td>Java: Repeat Task Every Random Seconds &lt;p&gt;I'm ...</td>\n",
              "      <td>0</td>\n",
              "      <td>1</td>\n",
              "      <td>0</td>\n",
              "    </tr>\n",
              "    <tr>\n",
              "      <th>1</th>\n",
              "      <td>Why are Java Optionals immutable? &lt;p&gt;I'd like ...</td>\n",
              "      <td>1</td>\n",
              "      <td>0</td>\n",
              "      <td>0</td>\n",
              "    </tr>\n",
              "    <tr>\n",
              "      <th>2</th>\n",
              "      <td>Text Overlay Image with Darkened Opacity React...</td>\n",
              "      <td>1</td>\n",
              "      <td>0</td>\n",
              "      <td>0</td>\n",
              "    </tr>\n",
              "    <tr>\n",
              "      <th>3</th>\n",
              "      <td>Why ternary operator in swift is so picky? &lt;p&gt;...</td>\n",
              "      <td>1</td>\n",
              "      <td>0</td>\n",
              "      <td>0</td>\n",
              "    </tr>\n",
              "    <tr>\n",
              "      <th>4</th>\n",
              "      <td>hide/show fab with scale animation &lt;p&gt;I'm usin...</td>\n",
              "      <td>1</td>\n",
              "      <td>0</td>\n",
              "      <td>0</td>\n",
              "    </tr>\n",
              "  </tbody>\n",
              "</table>\n",
              "</div>"
            ],
            "text/plain": [
              "                                                text  HQ  LQ_CLOSE  LQ_EDIT\n",
              "0  Java: Repeat Task Every Random Seconds <p>I'm ...   0         1        0\n",
              "1  Why are Java Optionals immutable? <p>I'd like ...   1         0        0\n",
              "2  Text Overlay Image with Darkened Opacity React...   1         0        0\n",
              "3  Why ternary operator in swift is so picky? <p>...   1         0        0\n",
              "4  hide/show fab with scale animation <p>I'm usin...   1         0        0"
            ]
          },
          "metadata": {
            "tags": []
          },
          "execution_count": 15
        }
      ]
    },
    {
      "cell_type": "code",
      "metadata": {
        "colab": {
          "base_uri": "https://localhost:8080/"
        },
        "id": "bd-5Ny8MLR4u",
        "outputId": "813139de-dfbb-4d89-8f9d-061180c55a3d"
      },
      "source": [
        "valid_tf[\"text\"] = valid_tf[\"Title\"] + ' ' + valid_tf[\"Body\"]\n",
        "\n",
        "cols = valid_tf.columns.tolist()\n",
        "cols = cols[-1:] + cols[:-1]\n",
        "valid_tf = valid_tf[cols] \n",
        "\n",
        "valid_tf = valid_tf.drop(labels='Title',axis=1)\n",
        "valid_tf = valid_tf.drop(labels='Body',axis=1)\n",
        "\n",
        "valid_tf.head()"
      ],
      "execution_count": null,
      "outputs": [
        {
          "output_type": "execute_result",
          "data": {
            "text/html": [
              "<div>\n",
              "<style scoped>\n",
              "    .dataframe tbody tr th:only-of-type {\n",
              "        vertical-align: middle;\n",
              "    }\n",
              "\n",
              "    .dataframe tbody tr th {\n",
              "        vertical-align: top;\n",
              "    }\n",
              "\n",
              "    .dataframe thead th {\n",
              "        text-align: right;\n",
              "    }\n",
              "</style>\n",
              "<table border=\"1\" class=\"dataframe\">\n",
              "  <thead>\n",
              "    <tr style=\"text-align: right;\">\n",
              "      <th></th>\n",
              "      <th>text</th>\n",
              "      <th>HQ</th>\n",
              "      <th>LQ_CLOSE</th>\n",
              "      <th>LQ_EDIT</th>\n",
              "    </tr>\n",
              "  </thead>\n",
              "  <tbody>\n",
              "    <tr>\n",
              "      <th>0</th>\n",
              "      <td>How to get all the child records from differen...</td>\n",
              "      <td>0</td>\n",
              "      <td>0</td>\n",
              "      <td>1</td>\n",
              "    </tr>\n",
              "    <tr>\n",
              "      <th>1</th>\n",
              "      <td>Retrieve all except some data of the another t...</td>\n",
              "      <td>0</td>\n",
              "      <td>0</td>\n",
              "      <td>1</td>\n",
              "    </tr>\n",
              "    <tr>\n",
              "      <th>2</th>\n",
              "      <td>Pandas: read_html &lt;p&gt;I'm trying to extract US ...</td>\n",
              "      <td>1</td>\n",
              "      <td>0</td>\n",
              "      <td>0</td>\n",
              "    </tr>\n",
              "    <tr>\n",
              "      <th>3</th>\n",
              "      <td>Reader Always gimme NULL I'm so new to C#, I w...</td>\n",
              "      <td>0</td>\n",
              "      <td>0</td>\n",
              "      <td>1</td>\n",
              "    </tr>\n",
              "    <tr>\n",
              "      <th>4</th>\n",
              "      <td>php rearrange array elements based on conditio...</td>\n",
              "      <td>0</td>\n",
              "      <td>0</td>\n",
              "      <td>1</td>\n",
              "    </tr>\n",
              "  </tbody>\n",
              "</table>\n",
              "</div>"
            ],
            "text/plain": [
              "                                                text  HQ  LQ_CLOSE  LQ_EDIT\n",
              "0  How to get all the child records from differen...   0         0        1\n",
              "1  Retrieve all except some data of the another t...   0         0        1\n",
              "2  Pandas: read_html <p>I'm trying to extract US ...   1         0        0\n",
              "3  Reader Always gimme NULL I'm so new to C#, I w...   0         0        1\n",
              "4  php rearrange array elements based on conditio...   0         0        1"
            ]
          },
          "metadata": {
            "tags": []
          },
          "execution_count": 16
        }
      ]
    },
    {
      "cell_type": "code",
      "metadata": {
        "id": "CUQ55Jgll73O"
      },
      "source": [
        "train_tf['text'] = train_tf['text'].apply(cleaning_text)\n",
        "valid_tf['text'] = valid_tf['text'].apply(cleaning_text)"
      ],
      "execution_count": null,
      "outputs": []
    },
    {
      "cell_type": "code",
      "metadata": {
        "id": "ZmYvahCwgGn_"
      },
      "source": [
        "train_tf['text'] = train_tf['text'].apply(remove_stopword)\n",
        "valid_tf['text'] = valid_tf['text'].apply(remove_stopword)"
      ],
      "execution_count": null,
      "outputs": []
    },
    {
      "cell_type": "code",
      "metadata": {
        "colab": {
          "base_uri": "https://localhost:8080/"
        },
        "id": "_SpopoupiKK2",
        "outputId": "c0d90492-24c2-4a3a-a6f0-88df3ad865dd"
      },
      "source": [
        "train_tf.head()"
      ],
      "execution_count": null,
      "outputs": [
        {
          "output_type": "execute_result",
          "data": {
            "text/html": [
              "<div>\n",
              "<style scoped>\n",
              "    .dataframe tbody tr th:only-of-type {\n",
              "        vertical-align: middle;\n",
              "    }\n",
              "\n",
              "    .dataframe tbody tr th {\n",
              "        vertical-align: top;\n",
              "    }\n",
              "\n",
              "    .dataframe thead th {\n",
              "        text-align: right;\n",
              "    }\n",
              "</style>\n",
              "<table border=\"1\" class=\"dataframe\">\n",
              "  <thead>\n",
              "    <tr style=\"text-align: right;\">\n",
              "      <th></th>\n",
              "      <th>text</th>\n",
              "      <th>HQ</th>\n",
              "      <th>LQ_CLOSE</th>\n",
              "      <th>LQ_EDIT</th>\n",
              "    </tr>\n",
              "  </thead>\n",
              "  <tbody>\n",
              "    <tr>\n",
              "      <th>0</th>\n",
              "      <td>java repeat task every random seconds pim alre...</td>\n",
              "      <td>0</td>\n",
              "      <td>1</td>\n",
              "      <td>0</td>\n",
              "    </tr>\n",
              "    <tr>\n",
              "      <th>1</th>\n",
              "      <td>java optionals immutable pid like understand j...</td>\n",
              "      <td>1</td>\n",
              "      <td>0</td>\n",
              "      <td>0</td>\n",
              "    </tr>\n",
              "    <tr>\n",
              "      <th>2</th>\n",
              "      <td>text overlay image darkened opacity react nati...</td>\n",
              "      <td>1</td>\n",
              "      <td>0</td>\n",
              "      <td>0</td>\n",
              "    </tr>\n",
              "    <tr>\n",
              "      <th>3</th>\n",
              "      <td>ternary operator swift picky pthe question sim...</td>\n",
              "      <td>1</td>\n",
              "      <td>0</td>\n",
              "      <td>0</td>\n",
              "    </tr>\n",
              "    <tr>\n",
              "      <th>4</th>\n",
              "      <td>hideshow fab scale animation pim using custom ...</td>\n",
              "      <td>1</td>\n",
              "      <td>0</td>\n",
              "      <td>0</td>\n",
              "    </tr>\n",
              "  </tbody>\n",
              "</table>\n",
              "</div>"
            ],
            "text/plain": [
              "                                                text  HQ  LQ_CLOSE  LQ_EDIT\n",
              "0  java repeat task every random seconds pim alre...   0         1        0\n",
              "1  java optionals immutable pid like understand j...   1         0        0\n",
              "2  text overlay image darkened opacity react nati...   1         0        0\n",
              "3  ternary operator swift picky pthe question sim...   1         0        0\n",
              "4  hideshow fab scale animation pim using custom ...   1         0        0"
            ]
          },
          "metadata": {
            "tags": []
          },
          "execution_count": 19
        }
      ]
    },
    {
      "cell_type": "code",
      "metadata": {
        "colab": {
          "base_uri": "https://localhost:8080/"
        },
        "id": "2LlfBQebiWkD",
        "outputId": "395a3ddb-78f9-4e83-9006-3689758a1d41"
      },
      "source": [
        "valid_tf.head()"
      ],
      "execution_count": null,
      "outputs": [
        {
          "output_type": "execute_result",
          "data": {
            "text/html": [
              "<div>\n",
              "<style scoped>\n",
              "    .dataframe tbody tr th:only-of-type {\n",
              "        vertical-align: middle;\n",
              "    }\n",
              "\n",
              "    .dataframe tbody tr th {\n",
              "        vertical-align: top;\n",
              "    }\n",
              "\n",
              "    .dataframe thead th {\n",
              "        text-align: right;\n",
              "    }\n",
              "</style>\n",
              "<table border=\"1\" class=\"dataframe\">\n",
              "  <thead>\n",
              "    <tr style=\"text-align: right;\">\n",
              "      <th></th>\n",
              "      <th>text</th>\n",
              "      <th>HQ</th>\n",
              "      <th>LQ_CLOSE</th>\n",
              "      <th>LQ_EDIT</th>\n",
              "    </tr>\n",
              "  </thead>\n",
              "  <tbody>\n",
              "    <tr>\n",
              "      <th>0</th>\n",
              "      <td>get child records different tables based given...</td>\n",
              "      <td>0</td>\n",
              "      <td>0</td>\n",
              "      <td>1</td>\n",
              "    </tr>\n",
              "    <tr>\n",
              "      <th>1</th>\n",
              "      <td>retrieve except data another table two table m...</td>\n",
              "      <td>0</td>\n",
              "      <td>0</td>\n",
              "      <td>1</td>\n",
              "    </tr>\n",
              "    <tr>\n",
              "      <th>2</th>\n",
              "      <td>pandas readhtml pim trying extract us states w...</td>\n",
              "      <td>1</td>\n",
              "      <td>0</td>\n",
              "      <td>0</td>\n",
              "    </tr>\n",
              "    <tr>\n",
              "      <th>3</th>\n",
              "      <td>reader always gimme null im new c wanna make a...</td>\n",
              "      <td>0</td>\n",
              "      <td>0</td>\n",
              "      <td>1</td>\n",
              "    </tr>\n",
              "    <tr>\n",
              "      <th>4</th>\n",
              "      <td>php rearrange array elements based condition b...</td>\n",
              "      <td>0</td>\n",
              "      <td>0</td>\n",
              "      <td>1</td>\n",
              "    </tr>\n",
              "  </tbody>\n",
              "</table>\n",
              "</div>"
            ],
            "text/plain": [
              "                                                text  HQ  LQ_CLOSE  LQ_EDIT\n",
              "0  get child records different tables based given...   0         0        1\n",
              "1  retrieve except data another table two table m...   0         0        1\n",
              "2  pandas readhtml pim trying extract us states w...   1         0        0\n",
              "3  reader always gimme null im new c wanna make a...   0         0        1\n",
              "4  php rearrange array elements based condition b...   0         0        1"
            ]
          },
          "metadata": {
            "tags": []
          },
          "execution_count": 20
        }
      ]
    },
    {
      "cell_type": "markdown",
      "metadata": {
        "id": "VoY5UgG-QDLv"
      },
      "source": [
        "##tokenize text"
      ]
    },
    {
      "cell_type": "code",
      "metadata": {
        "id": "r1pkl4EFo2Fw"
      },
      "source": [
        "VOCAB_SIZE = 10000\n",
        "encoder = tf.keras.layers.experimental.preprocessing.TextVectorization(\n",
        "    max_tokens=VOCAB_SIZE)\n",
        "\n",
        "texts = np.array(train_tf['text']) \n",
        "\n",
        "encoder.adapt(texts)"
      ],
      "execution_count": null,
      "outputs": []
    },
    {
      "cell_type": "code",
      "metadata": {
        "id": "hJIcG8thpmuh",
        "colab": {
          "base_uri": "https://localhost:8080/"
        },
        "outputId": "08fc3c92-6776-4c5d-ba9e-729653827347"
      },
      "source": [
        "vocab = np.array(encoder.get_vocabulary())\n",
        "vocab[:200]"
      ],
      "execution_count": null,
      "outputs": [
        {
          "output_type": "execute_result",
          "data": {
            "text/plain": [
              "array(['', '[UNK]', 'codepre', 'pi', 'p', 'code', 'new', 'using',\n",
              "       'string', 'int', 'error', 'return', 'want', 'like', 'get', 'data',\n",
              "       'file', 'public', 'use', 'gt', 'class', 'function', 'c', 'value',\n",
              "       'im', 'name', 'import', 'void', 'would', 'need', 'one', 'help',\n",
              "       'array', 'x', 'trying', 'way', 'var', 'else', 'line', 'know',\n",
              "       'image', 'type', 'id', 'app', 'user', 'list', 'number', 'set',\n",
              "       'div', 'null', 'text', 'create', 'b', 'following', 'make', 'run',\n",
              "       'input', 'please', 'find', 'time', 'true', 'python', 'tried',\n",
              "       'method', 'dont', 'table', 'work', 'private', 'precode', 'object',\n",
              "       'false', 'first', 'problem', 'add', 'two', 'example', 'button',\n",
              "       'output', 'n', 'android', 'working', 'values', 'end', 'test',\n",
              "       'pim', 'static', 'html', 'try', 'result', 'server', 'cant',\n",
              "       'print', 'main', 'also', 'php', 'something', 'blockquote', 'java',\n",
              "       'project', 'date', 'case', 'could', 'pthe', 'version', 'getting',\n",
              "       'see', 'page', 'application', 'lt', 'select', 'program', 'e',\n",
              "       'ltlt', 'found', 'form', 'files', 'change', 'thisp', 'variable',\n",
              "       'view', 'doesnt', 'echo', 'description', 'database', 'script',\n",
              "       'different', 'without', 'px', 'used', 'override', 'question',\n",
              "       'call', 'another', 'react', 'let', 'key', 'include', 'column',\n",
              "       'works', 'build', 'pa', 'check', 'enter', 'size', 'ive', 'phow',\n",
              "       'possible', 'default', 'write', 'javascript', 'cannot', 'read',\n",
              "       'start', 'loop', 'right', 'url', 'thanks', 'query', 'api', 'json',\n",
              "       'message', 'command', 'show', 'sql', 'running', 'anyone', 'able',\n",
              "       'ul', 'const', 'char', 'simple', 'v', 'pis', 'r', 'row', 'access',\n",
              "       'understand', 'display', 'double', 'pthis', 'inside', 'multiple',\n",
              "       'wrong', 'js', 'color', 'item', 'convert', 'studio', 'f', 'def',\n",
              "       'request', 'node', 'element', 'pbut', 'component', 'however',\n",
              "       'width', 'go', 'web', 'created'], dtype='<U122')"
            ]
          },
          "metadata": {
            "tags": []
          },
          "execution_count": 22
        }
      ]
    },
    {
      "cell_type": "code",
      "metadata": {
        "id": "8HkoTLN3p78t",
        "colab": {
          "base_uri": "https://localhost:8080/"
        },
        "outputId": "861e1904-6df6-4dce-e64e-e4468302f999"
      },
      "source": [
        "encoded_train= encoder(train_tf['text']).numpy()\n",
        "encoded_train"
      ],
      "execution_count": null,
      "outputs": [
        {
          "output_type": "execute_result",
          "data": {
            "text/plain": [
              "array([[  97, 1242,  418, ...,    0,    0,    0],\n",
              "       [  97,    1, 3966, ...,    0,    0,    0],\n",
              "       [  50, 2980,   40, ...,    0,    0,    0],\n",
              "       ...,\n",
              "       [ 116, 2660,   99, ...,    0,    0,    0],\n",
              "       [ 447, 1057, 1293, ...,    0,    0,    0],\n",
              "       [  54,   22,  107, ...,    0,    0,    0]])"
            ]
          },
          "metadata": {
            "tags": []
          },
          "execution_count": 23
        }
      ]
    },
    {
      "cell_type": "code",
      "metadata": {
        "id": "a-nSZK-0tagU",
        "colab": {
          "base_uri": "https://localhost:8080/"
        },
        "outputId": "7d5b1970-f7d5-4a17-a13b-20e168876508"
      },
      "source": [
        "encoded_valid= encoder(valid_tf['text']).numpy()\n",
        "encoded_valid"
      ],
      "execution_count": null,
      "outputs": [
        {
          "output_type": "execute_result",
          "data": {
            "text/plain": [
              "array([[  14,  497,  891, ...,    0,    0,    0],\n",
              "       [ 966,  846,   15, ...,    0,    0,    0],\n",
              "       [ 791,    1,   84, ...,    0,    0,    0],\n",
              "       ...,\n",
              "       [ 958,  568,   10, ...,    0,    0,    0],\n",
              "       [  94,  104,  205, ...,    0,    0,    0],\n",
              "       [  90, 5964,  349, ...,    0,    0,    0]])"
            ]
          },
          "metadata": {
            "tags": []
          },
          "execution_count": 24
        }
      ]
    },
    {
      "cell_type": "code",
      "metadata": {
        "id": "2pvYHu3FtflJ",
        "colab": {
          "base_uri": "https://localhost:8080/"
        },
        "outputId": "9668124b-be80-484b-cf70-ef5cd802a859"
      },
      "source": [
        "len(encoded_valid[0])"
      ],
      "execution_count": null,
      "outputs": [
        {
          "output_type": "execute_result",
          "data": {
            "text/plain": [
              "2418"
            ]
          },
          "metadata": {
            "tags": []
          },
          "execution_count": 25
        }
      ]
    },
    {
      "cell_type": "markdown",
      "metadata": {
        "id": "bjUqGVBxGw-t"
      },
      "source": [
        "# Klasifikasi"
      ]
    },
    {
      "cell_type": "markdown",
      "metadata": {
        "id": "pGX7brsDYWoj"
      },
      "source": [
        "##load pretrained embedding layers"
      ]
    },
    {
      "cell_type": "code",
      "metadata": {
        "id": "HFYPj0oPYbsa"
      },
      "source": [
        "import tensorflow_hub as hub\n",
        "embedding = (\"https://tfhub.dev/google/tf2-preview/nnlm-en-dim50/1\")\n",
        "\n",
        "hub_layer = hub.KerasLayer(embedding, input_shape=[], output_shape=64, dtype=tf.string, trainable=True)"
      ],
      "execution_count": null,
      "outputs": []
    },
    {
      "cell_type": "code",
      "metadata": {
        "id": "LwfoBkmRYcP3"
      },
      "source": [
        "model = tf.keras.Sequential([\n",
        "    # encoder,\n",
        "    # tf.keras.layers.Embedding(\n",
        "    #    input_dim=len(encoder.get_vocabulary()),\n",
        "    #    output_dim=64,\n",
        "        # Use masking to handle the variable sequence lengths\n",
        "    #    mask_zero=True),\n",
        "    hub_layer,\n",
        "    tf.keras.layers.Lambda(lambda x: tf.expand_dims(x, 0)),\n",
        "    tf.keras.layers.Bidirectional(tf.keras.layers.LSTM(64)),\n",
        "    tf.keras.layers.Dense(64, activation='relu'),\n",
        "    tf.keras.layers.Dense(3)\n",
        "])"
      ],
      "execution_count": null,
      "outputs": []
    },
    {
      "cell_type": "code",
      "metadata": {
        "id": "Eo0YHWsu_X-e"
      },
      "source": [
        "#PAKAI INI KALAU GA PAKE PRETRAINED MODEL\n",
        "model = tf.keras.Sequential([\n",
        "    tf.keras.layers.Embedding(\n",
        "        input_dim=len(encoder.get_vocabulary()),\n",
        "        output_dim=64,\n",
        "        # Use masking to handle the variable sequence lengths\n",
        "        mask_zero=True),\n",
        "    tf.keras.layers.Bidirectional(tf.keras.layers.LSTM(64, return_sequences=True)),\n",
        "#    tf.keras.layers.Bidirectional(tf.keras.layers.LSTM(32)),\n",
        "    tf.keras.layers.Dense(64, activation='relu'),\n",
        "#    tf.keras.layers.Dropout(0.5),\n",
        "    tf.keras.layers.Dense(3)\n",
        "])"
      ],
      "execution_count": null,
      "outputs": []
    },
    {
      "cell_type": "markdown",
      "metadata": {
        "id": "sRI776ZcH3Tf"
      },
      "source": [
        "Compile the Keras model to configure the training process:"
      ]
    },
    {
      "cell_type": "code",
      "metadata": {
        "id": "kj2xei41YZjC"
      },
      "source": [
        "model.compile(loss='categorical_crossentropy',\n",
        "              optimizer=tf.keras.optimizers.Adam(1e-4),\n",
        "              metrics=['accuracy'])"
      ],
      "execution_count": null,
      "outputs": []
    },
    {
      "cell_type": "markdown",
      "metadata": {
        "id": "zIwH3nto596k"
      },
      "source": [
        "## Train the model"
      ]
    },
    {
      "cell_type": "code",
      "metadata": {
        "colab": {
          "base_uri": "https://localhost:8080/"
        },
        "id": "qvCWyxZzvI9Y",
        "outputId": "0d5b9402-ac81-4ad2-d27a-62b4f777603b"
      },
      "source": [
        "#jika tidak pakai pretrained embbedeing layers\n",
        "history = model.fit(encoded_train, one_hot_labels_train, verbose=1, epochs=30)"
      ],
      "execution_count": null,
      "outputs": [
        {
          "output_type": "stream",
          "text": [
            "Epoch 1/30\n",
            "1407/1407 [==============================] - 126s 78ms/step - loss: 1.4494 - accuracy: 0.3328\n",
            "Epoch 2/30\n",
            "1407/1407 [==============================] - 110s 78ms/step - loss: 1.2188 - accuracy: 0.3996\n",
            "Epoch 3/30\n",
            "1407/1407 [==============================] - 110s 78ms/step - loss: 2.2815 - accuracy: 0.2058\n",
            "Epoch 4/30\n",
            "1407/1407 [==============================] - 111s 79ms/step - loss: 3.0866 - accuracy: 0.3262\n",
            "Epoch 5/30\n",
            "1407/1407 [==============================] - 111s 79ms/step - loss: 1.9095 - accuracy: 0.3695\n",
            "Epoch 6/30\n",
            "1407/1407 [==============================] - 110s 79ms/step - loss: 2.0813 - accuracy: 0.2819\n",
            "Epoch 7/30\n",
            "1407/1407 [==============================] - 111s 79ms/step - loss: 2.5130 - accuracy: 0.3709\n",
            "Epoch 8/30\n",
            "1407/1407 [==============================] - 110s 78ms/step - loss: 1.8376 - accuracy: 0.2020\n",
            "Epoch 9/30\n",
            "1407/1407 [==============================] - 111s 79ms/step - loss: 1.5525 - accuracy: 0.3174\n",
            "Epoch 10/30\n",
            "1407/1407 [==============================] - 111s 79ms/step - loss: 1.3875 - accuracy: 0.3300\n",
            "Epoch 11/30\n",
            "1407/1407 [==============================] - 111s 79ms/step - loss: 1.3822 - accuracy: 0.3336\n",
            "Epoch 12/30\n",
            "1407/1407 [==============================] - 111s 79ms/step - loss: 1.4376 - accuracy: 0.3098\n",
            "Epoch 13/30\n",
            "1407/1407 [==============================] - 111s 79ms/step - loss: 3.7707 - accuracy: 0.4001\n",
            "Epoch 14/30\n",
            "1407/1407 [==============================] - 113s 80ms/step - loss: 3.0324 - accuracy: 0.4349\n",
            "Epoch 15/30\n",
            "1407/1407 [==============================] - 113s 80ms/step - loss: 2.2209 - accuracy: 0.2931\n",
            "Epoch 16/30\n",
            "1407/1407 [==============================] - 112s 80ms/step - loss: 1.7083 - accuracy: 0.2960\n",
            "Epoch 17/30\n",
            "1407/1407 [==============================] - 113s 80ms/step - loss: 1.9813 - accuracy: 0.3455\n",
            "Epoch 18/30\n",
            "1407/1407 [==============================] - 112s 80ms/step - loss: 2.1879 - accuracy: 0.2668\n",
            "Epoch 19/30\n",
            "1407/1407 [==============================] - 113s 81ms/step - loss: 1.9000 - accuracy: 0.2819\n",
            "Epoch 20/30\n",
            "1407/1407 [==============================] - 113s 80ms/step - loss: 1.5565 - accuracy: 0.3214\n",
            "Epoch 21/30\n",
            "1407/1407 [==============================] - 113s 80ms/step - loss: 1.9905 - accuracy: 0.3203\n",
            "Epoch 22/30\n",
            "1407/1407 [==============================] - 113s 80ms/step - loss: 1.6998 - accuracy: 0.2897\n",
            "Epoch 23/30\n",
            "1407/1407 [==============================] - 113s 80ms/step - loss: 1.4561 - accuracy: 0.3470\n",
            "Epoch 24/30\n",
            "1407/1407 [==============================] - 113s 80ms/step - loss: 1.3579 - accuracy: 0.3164\n",
            "Epoch 25/30\n",
            "1407/1407 [==============================] - 115s 82ms/step - loss: 1.3836 - accuracy: 0.2289\n",
            "Epoch 26/30\n",
            "1407/1407 [==============================] - 113s 80ms/step - loss: 1.3560 - accuracy: 0.3149\n",
            "Epoch 27/30\n",
            "1407/1407 [==============================] - 112s 80ms/step - loss: 1.3072 - accuracy: 0.3594\n",
            "Epoch 28/30\n",
            "1407/1407 [==============================] - 112s 80ms/step - loss: 1.2799 - accuracy: 0.3552\n",
            "Epoch 29/30\n",
            "1407/1407 [==============================] - 112s 79ms/step - loss: 1.2906 - accuracy: 0.3664\n",
            "Epoch 30/30\n",
            "1407/1407 [==============================] - 112s 80ms/step - loss: 1.2123 - accuracy: 0.3808\n"
          ],
          "name": "stdout"
        }
      ]
    },
    {
      "cell_type": "code",
      "metadata": {
        "id": "BaNbXi43YgUT"
      },
      "source": [
        "#uncomment jika tidak pakai pretrained model\n",
        "test_loss, test_acc = model.evaluate(encoded_valid, one_hot_labels_valid)\n",
        "\n",
        "\n",
        "print('Test Loss:', test_loss)\n",
        "print('Test Accuracy:', test_acc)"
      ],
      "execution_count": null,
      "outputs": []
    },
    {
      "cell_type": "code",
      "metadata": {
        "id": "VDz0PyyLR0CB"
      },
      "source": [
        "#uncomment jika pakai pretrained model\n",
        "test_loss, test_acc = model.evaluate(valid_tf['text'].values.ravel(), one_hot_labels_valid)"
      ],
      "execution_count": null,
      "outputs": []
    },
    {
      "cell_type": "code",
      "metadata": {
        "id": "OZmwt_mzaQJk"
      },
      "source": [
        "plt.figure(figsize=(16, 8))\n",
        "plt.subplot(1, 2, 1)\n",
        "plot_graphs(history, 'accuracy')\n",
        "plt.ylim(None, 1)\n",
        "plt.subplot(1, 2, 2)\n",
        "plot_graphs(history, 'loss')\n",
        "plt.ylim(0, None)"
      ],
      "execution_count": null,
      "outputs": []
    },
    {
      "cell_type": "markdown",
      "metadata": {
        "id": "DwSE_386uhxD"
      },
      "source": [
        "Run a prediction on a new sentence:\n",
        "\n",
        "If the prediction is >= 0.0, it is positive else it is negative."
      ]
    },
    {
      "cell_type": "code",
      "metadata": {
        "id": "ZXgfQSgRW6zU"
      },
      "source": [
        "sample_text = ('The movie was cool. The animation and the graphics '\n",
        "               'were out of this world. I would recommend this movie.')\n",
        "predictions = model.predict(np.array([sample_text]))"
      ],
      "execution_count": null,
      "outputs": []
    }
  ]
}